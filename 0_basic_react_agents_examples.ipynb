{
 "cells": [
  {
   "cell_type": "markdown",
   "id": "4f6ea461",
   "metadata": {},
   "source": [
    "# Setup\n"
   ]
  },
  {
   "cell_type": "code",
   "execution_count": 1,
   "id": "8735c95c",
   "metadata": {},
   "outputs": [],
   "source": [
    "# %%capture\n",
    "# %pip install langchain==0.3.27\n",
    "# %pip install jupyterlab==4.4.9"
   ]
  },
  {
   "cell_type": "code",
   "execution_count": 22,
   "id": "00988689",
   "metadata": {},
   "outputs": [],
   "source": [
    "import os\n",
    "import time\n",
    "import uuid\n",
    "from dotenv import load_dotenv\n",
    "\n",
    "import pandas as pd\n",
    "\n",
    "__import__(\"pysqlite3\")\n",
    "import sys\n",
    "sys.modules[\"sqlite3\"] = sys.modules.pop(\"pysqlite3\")\n",
    "\n",
    "from langchain.embeddings import HuggingFaceEmbeddings\n",
    "from langchain_core.tools import tool, create_retriever_tool\n",
    "from langchain_core.messages import AIMessage,HumanMessage,SystemMessage\n",
    "from langchain_google_genai import ChatGoogleGenerativeAI\n",
    "from langchain_community.document_loaders import PyPDFLoader\n",
    "from langchain_chroma import Chroma\n",
    "from langchain_text_splitters import RecursiveCharacterTextSplitter\n",
    "from langgraph.prebuilt import create_react_agent\n",
    "from langgraph.checkpoint.memory import MemorySaver"
   ]
  },
  {
   "cell_type": "code",
   "execution_count": 3,
   "id": "4189a7d3",
   "metadata": {},
   "outputs": [],
   "source": [
    "load_dotenv()\n",
    "\n",
    "GOOGLE_API_KEY = os.environ[\"GOOGLE_API_KEY\"]"
   ]
  },
  {
   "cell_type": "code",
   "execution_count": 4,
   "id": "094cb000",
   "metadata": {},
   "outputs": [
    {
     "name": "stderr",
     "output_type": "stream",
     "text": [
      "WARNING: All log messages before absl::InitializeLog() is called are written to STDERR\n",
      "E0000 00:00:1759253712.419724  100454 alts_credentials.cc:93] ALTS creds ignored. Not running on GCP and untrusted ALTS is not enabled.\n",
      "/tmp/ipykernel_100454/2822504156.py:14: LangChainDeprecationWarning: The class `HuggingFaceEmbeddings` was deprecated in LangChain 0.2.2 and will be removed in 1.0. An updated version of the class exists in the :class:`~langchain-huggingface package and should be used instead. To use it run `pip install -U :class:`~langchain-huggingface` and import as `from :class:`~langchain_huggingface import HuggingFaceEmbeddings``.\n",
      "  model_embedding_001 = HuggingFaceEmbeddings(\n"
     ]
    }
   ],
   "source": [
    "# MODELS\n",
    "model_gemini_2_0_flash = ChatGoogleGenerativeAI(\n",
    "    model=\"gemini-2.0-flash\",\n",
    "    google_api_key=GOOGLE_API_KEY,\n",
    "    temperature=0,\n",
    "    max_tokens=100,\n",
    "    max_retries=1,\n",
    ")\n",
    "\n",
    "# model_embedding_001 = GoogleGenerativeAIEmbeddings(\n",
    "#     model=\"models/embedding-001\", google_api_key=GOOGLE_API_KEY\n",
    "# )\n",
    "\n",
    "model_embedding_001 = HuggingFaceEmbeddings(\n",
    "    model_name=\"all-MiniLM-L6-v2\", \n",
    "    model_kwargs={\"device\": \"cpu\"}\n",
    ")"
   ]
  },
  {
   "cell_type": "markdown",
   "id": "4c48b06a",
   "metadata": {},
   "source": [
    "# ReAct Agent Example\n"
   ]
  },
  {
   "cell_type": "markdown",
   "id": "d9d8625c",
   "metadata": {},
   "source": [
    "## Create agent\n"
   ]
  },
  {
   "cell_type": "code",
   "execution_count": 5,
   "id": "98d4be79",
   "metadata": {},
   "outputs": [],
   "source": [
    "@tool\n",
    "def find_sum(a: int, b: int) -> int:\n",
    "    \"\"\"\n",
    "    Add two integers and return their sum.\n",
    "    \"\"\"\n",
    "    return a + b\n",
    "\n",
    "\n",
    "@tool\n",
    "def find_product(a: int, b: int) -> int:\n",
    "    \"\"\"\n",
    "    Multiply two integers and return their product.\n",
    "    \"\"\"\n",
    "    return a * b"
   ]
  },
  {
   "cell_type": "code",
   "execution_count": 6,
   "id": "b32a2786",
   "metadata": {},
   "outputs": [],
   "source": [
    "agent_tools = [find_sum, find_product]\n",
    "\n",
    "system_prompt = SystemMessage(\n",
    "    \"\"\"\n",
    "    You are a mathematician who solves math problems using tools only. \n",
    "    Do not solve any problem yourself — always use the available tools to find the solution.\n",
    "    \"\"\"\n",
    ")\n",
    "\n",
    "agent_graph = create_react_agent(\n",
    "    model=model_gemini_2_0_flash, prompt=system_prompt, tools=agent_tools\n",
    ")"
   ]
  },
  {
   "cell_type": "markdown",
   "id": "8026bc6c",
   "metadata": {},
   "source": [
    "## Invoke agent\n"
   ]
  },
  {
   "cell_type": "code",
   "execution_count": 7,
   "id": "3a2b6746",
   "metadata": {},
   "outputs": [],
   "source": [
    "# # Example 1\n",
    "# inputs = {\"messages\": [(\"user\", \"what is the sum of 2 and 3 ?\")]}\n",
    "# result = agent_graph.invoke(inputs)\n",
    "\n",
    "# print(f\"Agent returned : {result['messages'][-1].content} \\n\")\n",
    "# print(\"Step by Step execution : \")\n",
    "# for message in result[\"messages\"]:\n",
    "#     print(message.pretty_repr())"
   ]
  },
  {
   "cell_type": "code",
   "execution_count": 8,
   "id": "b5dbc56b",
   "metadata": {},
   "outputs": [],
   "source": [
    "# # Example 2\n",
    "# inputs = {\"messages\": [(\"user\", \"What is 3 multipled by 2 and 5 + 1 ?\")]}\n",
    "# result = agent_graph.invoke(inputs)\n",
    "\n",
    "# print(f\"Agent returned : {result['messages'][-1].content} \\n\")\n",
    "# print(\"Step by Step execution : \")\n",
    "# for message in result[\"messages\"]:\n",
    "#     print(message.pretty_repr())"
   ]
  },
  {
   "cell_type": "code",
   "execution_count": 9,
   "id": "499f4a87",
   "metadata": {},
   "outputs": [],
   "source": [
    "# # Example 3\n",
    "# inputs = {\"messages\": [(\"user\", \"what is the sum of 2.1 and 3.7 ?\")]}\n",
    "# result = agent_graph.invoke(inputs)\n",
    "\n",
    "# print(f\"Agent returned : {result['messages'][-1].content} \\n\")\n",
    "# print(\"Step by Step execution : \")\n",
    "# for message in result[\"messages\"]:\n",
    "#     print(message.pretty_repr())"
   ]
  },
  {
   "cell_type": "markdown",
   "id": "e899d517",
   "metadata": {},
   "source": [
    "## Debug agent\n"
   ]
  },
  {
   "cell_type": "code",
   "execution_count": 10,
   "id": "6dedb175",
   "metadata": {},
   "outputs": [],
   "source": [
    "agent_graph_debug = create_react_agent(\n",
    "    model=model_gemini_2_0_flash, prompt=system_prompt, tools=agent_tools, debug=True\n",
    ")"
   ]
  },
  {
   "cell_type": "code",
   "execution_count": 11,
   "id": "fff9853e",
   "metadata": {},
   "outputs": [],
   "source": [
    "# inputs = {\"messages\": [(\"user\", \"what is the sum of 2 and 3 ?\")]}\n",
    "# result = agent_graph_debug.invoke(inputs)"
   ]
  },
  {
   "cell_type": "markdown",
   "id": "a790cffa",
   "metadata": {},
   "source": [
    "# Product Q&A Chatbot\n"
   ]
  },
  {
   "cell_type": "markdown",
   "id": "f55eaf4b",
   "metadata": {},
   "source": [
    "## Data\n"
   ]
  },
  {
   "cell_type": "code",
   "execution_count": 12,
   "id": "4ea57dfe",
   "metadata": {},
   "outputs": [
    {
     "data": {
      "text/html": [
       "<div>\n",
       "<style scoped>\n",
       "    .dataframe tbody tr th:only-of-type {\n",
       "        vertical-align: middle;\n",
       "    }\n",
       "\n",
       "    .dataframe tbody tr th {\n",
       "        vertical-align: top;\n",
       "    }\n",
       "\n",
       "    .dataframe thead th {\n",
       "        text-align: right;\n",
       "    }\n",
       "</style>\n",
       "<table border=\"1\" class=\"dataframe\">\n",
       "  <thead>\n",
       "    <tr style=\"text-align: right;\">\n",
       "      <th></th>\n",
       "      <th>Name</th>\n",
       "      <th>Price</th>\n",
       "      <th>ShippingDays</th>\n",
       "    </tr>\n",
       "  </thead>\n",
       "  <tbody>\n",
       "    <tr>\n",
       "      <th>0</th>\n",
       "      <td>Zenith One</td>\n",
       "      <td>899</td>\n",
       "      <td>5</td>\n",
       "    </tr>\n",
       "    <tr>\n",
       "      <th>1</th>\n",
       "      <td>AeroPhone Lite</td>\n",
       "      <td>299</td>\n",
       "      <td>3</td>\n",
       "    </tr>\n",
       "    <tr>\n",
       "      <th>2</th>\n",
       "      <td>Photon X Ultra</td>\n",
       "      <td>1199</td>\n",
       "      <td>7</td>\n",
       "    </tr>\n",
       "    <tr>\n",
       "      <th>3</th>\n",
       "      <td>Nimbus Mini</td>\n",
       "      <td>749</td>\n",
       "      <td>4</td>\n",
       "    </tr>\n",
       "    <tr>\n",
       "      <th>4</th>\n",
       "      <td>Titan Max 5G</td>\n",
       "      <td>999</td>\n",
       "      <td>6</td>\n",
       "    </tr>\n",
       "  </tbody>\n",
       "</table>\n",
       "</div>"
      ],
      "text/plain": [
       "             Name  Price  ShippingDays\n",
       "0      Zenith One    899             5\n",
       "1  AeroPhone Lite    299             3\n",
       "2  Photon X Ultra   1199             7\n",
       "3     Nimbus Mini    749             4\n",
       "4    Titan Max 5G    999             6"
      ]
     },
     "execution_count": 12,
     "metadata": {},
     "output_type": "execute_result"
    }
   ],
   "source": [
    "product_price_df = pd.read_csv(\"data/smartphone_prices.csv\")\n",
    "product_price_df"
   ]
  },
  {
   "cell_type": "code",
   "execution_count": 13,
   "id": "7931b62d",
   "metadata": {},
   "outputs": [
    {
     "data": {
      "text/plain": [
       "[Document(metadata={'producer': 'ReportLab PDF Library - www.reportlab.com', 'creator': '(unspecified)', 'creationdate': '2025-09-30T17:20:58+00:00', 'author': '(anonymous)', 'keywords': '', 'moddate': '2025-09-30T17:20:58+00:00', 'subject': '(unspecified)', 'title': '(anonymous)', 'trapped': '/False', 'source': './data/smartphone_descriptions.pdf', 'total_pages': 1, 'page': 0, 'page_label': '1'}, page_content='Zenith One\\nThe Zenith One packs flagship performance into a slim design. It features the Snapdragon X3 chip,\\n12GB of RAM, and 256GB of storage. Its 6.7-inch OLED display with 120Hz refresh rate delivers\\nsmooth visuals, while the triple camera system excels in low-light photography.\\n AeroPhone Lite\\nAeroPhone Lite is designed for budget-conscious users who don’t want to compromise on quality.\\nWith a MediaTek Helio G95 processor, 6GB RAM, and 128GB storage, it offers snappy\\nperformance for everyday tasks. Its 5000mAh battery ensures two full days of usage.\\n Photon X Ultra\\nPhoton X Ultra is built for mobile photographers and power users. It sports a quad-lens 108MP\\ncamera setup, 16GB of RAM, and a blazing-fast Snapdragon Pro chip. Its curved AMOLED display\\nand 120W fast charging make it a premium powerhouse.\\n Nimbus Mini\\nNimbus Mini is a compact 5.8-inch smartphone that fits comfortably in one hand without sacrificing\\nfeatures. It has the A14 Fusion chip, 8GB RAM, and 256GB storage. Ideal for users who prefer\\nsmaller phones with high performance.\\n Titan Max 5G\\nTitan Max 5G is a rugged smartphone built for extreme conditions. With a reinforced titanium frame,\\nIP69 water resistance, and a massive 8000mAh battery, it’s perfect for outdoor enthusiasts. It\\nsupports 5G, has 12GB RAM, and 512GB expandable storage.')]"
      ]
     },
     "execution_count": 13,
     "metadata": {},
     "output_type": "execute_result"
    }
   ],
   "source": [
    "loader = PyPDFLoader(\"./data/smartphone_descriptions.pdf\")\n",
    "docs = loader.load()\n",
    "docs"
   ]
  },
  {
   "cell_type": "markdown",
   "id": "18408dcc",
   "metadata": {},
   "source": [
    "## Tools\n"
   ]
  },
  {
   "cell_type": "code",
   "execution_count": 14,
   "id": "2da26191",
   "metadata": {},
   "outputs": [
    {
     "name": "stdout",
     "output_type": "stream",
     "text": [
      "899\n",
      "-1\n"
     ]
    }
   ],
   "source": [
    "@tool\n",
    "def get_smartphone_price(smartphone_name: str) -> int:\n",
    "    \"\"\"\n",
    "    Returns the price of a smartphone by name (case-insensitive substring match).\n",
    "    If no match is found, returns -1.\n",
    "    \"\"\"\n",
    "    pattern = f\"^{smartphone_name.strip()}\"\n",
    "    matches = product_price_df[\n",
    "        product_price_df[\"Name\"].str.contains(pattern, case=False, na=False)\n",
    "    ]\n",
    "    if matches.empty:\n",
    "        return -1\n",
    "    return int(matches[\"Price\"].iloc[0])\n",
    "\n",
    "\n",
    "print(get_smartphone_price.invoke(\"zenith\"))\n",
    "print(get_smartphone_price.invoke(\"asdf\"))"
   ]
  },
  {
   "cell_type": "code",
   "execution_count": 15,
   "id": "df2e3285",
   "metadata": {},
   "outputs": [
    {
     "data": {
      "text/plain": [
       "[Document(id='99108aca-9893-457a-85c5-873e9ad575da', metadata={'keywords': '', 'producer': 'ReportLab PDF Library - www.reportlab.com', 'creator': '(unspecified)', 'author': '(anonymous)', 'page': 0, 'source': './data/smartphone_descriptions.pdf', 'title': '(anonymous)', 'subject': '(unspecified)', 'trapped': '/False', 'total_pages': 1, 'moddate': '2025-09-30T17:20:58+00:00', 'page_label': '1', 'creationdate': '2025-09-30T17:20:58+00:00'}, page_content='Zenith One\\nThe Zenith One packs flagship performance into a slim design. It features the Snapdragon X3 chip,\\n12GB of RAM, and 256GB of storage. Its 6.7-inch OLED display with 120Hz refresh rate delivers\\nsmooth visuals, while the triple camera system excels in low-light photography.\\n AeroPhone Lite\\nAeroPhone Lite is designed for budget-conscious users who don’t want to compromise on quality.\\nWith a MediaTek Helio G95 processor, 6GB RAM, and 128GB storage, it offers snappy\\nperformance for everyday tasks. Its 5000mAh battery ensures two full days of usage.\\n Photon X Ultra\\nPhoton X Ultra is built for mobile photographers and power users. It sports a quad-lens 108MP\\ncamera setup, 16GB of RAM, and a blazing-fast Snapdragon Pro chip. Its curved AMOLED display\\nand 120W fast charging make it a premium powerhouse.\\n Nimbus Mini\\nNimbus Mini is a compact 5.8-inch smartphone that fits comfortably in one hand without sacrificing\\nfeatures. It has the A14 Fusion chip, 8GB RAM, and 256GB storage. Ideal for users who prefer'),\n",
       " Document(id='cde25996-3857-4cbf-9a72-a1dde940a426', metadata={'producer': 'ReportLab PDF Library - www.reportlab.com', 'title': '(anonymous)', 'total_pages': 1, 'trapped': '/False', 'moddate': '2025-09-30T17:20:58+00:00', 'page': 0, 'creator': '(unspecified)', 'subject': '(unspecified)', 'author': '(anonymous)', 'creationdate': '2025-09-30T17:20:58+00:00', 'keywords': '', 'page_label': '1', 'source': './data/smartphone_descriptions.pdf'}, page_content='Nimbus Mini\\nNimbus Mini is a compact 5.8-inch smartphone that fits comfortably in one hand without sacrificing\\nfeatures. It has the A14 Fusion chip, 8GB RAM, and 256GB storage. Ideal for users who prefer\\nsmaller phones with high performance.\\n Titan Max 5G\\nTitan Max 5G is a rugged smartphone built for extreme conditions. With a reinforced titanium frame,\\nIP69 water resistance, and a massive 8000mAh battery, it’s perfect for outdoor enthusiasts. It\\nsupports 5G, has 12GB RAM, and 512GB expandable storage.')]"
      ]
     },
     "execution_count": 15,
     "metadata": {},
     "output_type": "execute_result"
    }
   ],
   "source": [
    "text_splitter = RecursiveCharacterTextSplitter(chunk_size=1024, chunk_overlap=256)\n",
    "splits = text_splitter.split_documents(docs)\n",
    "\n",
    "feature_store = Chroma.from_documents(\n",
    "    documents=splits, embedding=model_embedding_001\n",
    ")\n",
    "\n",
    "get_product_features = create_retriever_tool(\n",
    "    feature_store.as_retriever(search_kwargs={\"k\": 1}),\n",
    "    name=\"Get_Product_Features\",\n",
    "    description=\"\"\"\n",
    "    This store contains details about smartphones. It lists the available smartphones\n",
    "    and their features including camera, memory, storage, design and advantages\n",
    "    \"\"\"\n",
    ")\n",
    "\n",
    "feature_store.as_retriever().invoke(\"Tell me about the Zenith One\")"
   ]
  },
  {
   "cell_type": "markdown",
   "id": "69a929ce",
   "metadata": {},
   "source": [
    "## Chatbot"
   ]
  },
  {
   "cell_type": "code",
   "execution_count": 16,
   "id": "49eca84e",
   "metadata": {},
   "outputs": [],
   "source": [
    "system_prompt = SystemMessage(\"\"\"\n",
    "    You are professional chatbot that answers questions about smartphones sold by your company.\n",
    "    To answer questions about smartphones, you will ONLY use the available tools and NOT your own memory.\n",
    "    You will handle small talk and greetings by producing professional responses.\n",
    "    \"\"\"\n",
    ")\n",
    "checkpointer = MemorySaver() # conversation memory\n",
    "\n",
    "product_QnA_agent=create_react_agent(\n",
    "    model=model_gemini_2_0_flash,\n",
    "    tools=[get_smartphone_price, get_product_features],\n",
    "    prompt=system_prompt,\n",
    "    debug=False,\n",
    "    checkpointer=checkpointer\n",
    ")"
   ]
  },
  {
   "cell_type": "code",
   "execution_count": 17,
   "id": "9c6ef48f",
   "metadata": {},
   "outputs": [
    {
     "name": "stdout",
     "output_type": "stream",
     "text": [
      "================================\u001b[1m Human Message \u001b[0m=================================\n",
      "\n",
      "What are the features and pricing for Zenith One?\n",
      "==================================\u001b[1m Ai Message \u001b[0m==================================\n",
      "Tool Calls:\n",
      "  Get_Product_Features (f65da3ad-ede7-44bc-82fe-24de822602ee)\n",
      " Call ID: f65da3ad-ede7-44bc-82fe-24de822602ee\n",
      "  Args:\n",
      "    query: Zenith One\n",
      "  get_smartphone_price (75e4d671-4310-40d3-b7f4-a03b15a2f213)\n",
      " Call ID: 75e4d671-4310-40d3-b7f4-a03b15a2f213\n",
      "  Args:\n",
      "    smartphone_name: Zenith One\n",
      "=================================\u001b[1m Tool Message \u001b[0m=================================\n",
      "Name: get_smartphone_price\n",
      "\n",
      "899\n",
      "==================================\u001b[1m Ai Message \u001b[0m==================================\n",
      "\n",
      "The Zenith One features a Snapdragon X3 chip, 12GB of RAM, and 256GB of storage. It has a 6.7-inch OLED display with a 120Hz refresh rate and a triple camera system. The price of the Zenith One is $899.\n"
     ]
    }
   ],
   "source": [
    "# To maintain memory, each request should be in the context of a thread.\n",
    "# Each user conversation will use a separate thread ID\n",
    "config = {\"configurable\": {\"thread_id\": uuid.uuid4()}}\n",
    "\n",
    "inputs = {\"messages\": [HumanMessage(\"What are the features and pricing for Zenith One?\")]}\n",
    "\n",
    "# Use streaming to print responses as the agent  does the work.\n",
    "# This is an alternate way to stream agent responses without waiting for the agent to finish\n",
    "for stream in product_QnA_agent.stream(inputs, config, stream_mode=\"values\"):\n",
    "    message = stream[\"messages\"][-1]\n",
    "    if isinstance(message, tuple):\n",
    "        print(message)\n",
    "    else:\n",
    "        message.pretty_print()"
   ]
  },
  {
   "cell_type": "markdown",
   "id": "588e57fa",
   "metadata": {},
   "source": [
    "## Execute"
   ]
  },
  {
   "cell_type": "code",
   "execution_count": 23,
   "id": "fb94cedc",
   "metadata": {},
   "outputs": [
    {
     "name": "stdout",
     "output_type": "stream",
     "text": [
      "----------------------------------------\n",
      "USER : Hello\n",
      "AGENT : Hello! How can I help you today?\n",
      "----------------------------------------\n",
      "USER : I am looking to buy a smartphone\n",
      "AGENT : Great! I can help you with that. What are you looking for in a smartphone? Do you have any specific features or brands in mind?\n",
      "----------------------------------------\n",
      "USER : Give me a list of available smartphone names\n",
      "AGENT : The available smartphones are Nimbus Mini and Titan Max 5G.\n",
      "----------------------------------------\n",
      "USER : Tell me about the features of Zenith One\n",
      "AGENT : The Zenith One packs flagship performance into a slim design. It features the Snapdragon X3 chip, 12GB of RAM, and 256GB of storage. Its 6.7-inch OLED display with 120Hz refresh rate delivers smooth visuals, while the triple camera system excels in low-light photography.\n",
      "----------------------------------------\n",
      "USER : How much does it cost?\n",
      "AGENT : The Zenith One costs $899.\n",
      "----------------------------------------\n",
      "USER : Give me similar information about TitanMax\n",
      "AGENT : The Titan Max 5G is a rugged smartphone built for extreme conditions. It has a reinforced titanium frame, IP69 water resistance, and a massive 8000mAh battery. It supports 5G, has 12GB RAM, and 512GB expandable storage and costs $999.\n",
      "----------------------------------------\n",
      "USER : What info do you have on Nimbus ?\n",
      "AGENT : The Nimbus Mini is a compact 5.8-inch smartphone that fits comfortably in one hand without sacrificing features. It has the A14 Fusion chip, 8GB RAM, and 256GB storage. It is ideal for users who prefer smaller phones with high performance and costs $749.\n",
      "----------------------------------------\n",
      "USER : Thanks for the help\n",
      "AGENT : You're welcome! Is there anything else I can help you with today?\n"
     ]
    }
   ],
   "source": [
    "#This simulates the conversation between the user and the Agentic chatbot\n",
    "user_inputs = [\n",
    "    \"Hello\",\n",
    "    \"I am looking to buy a smartphone\",\n",
    "    \"Give me a list of available smartphone names\",\n",
    "    \"Tell me about the features of Zenith One\",\n",
    "    \"How much does it cost?\",\n",
    "    \"Give me similar information about TitanMax\",\n",
    "    \"What info do you have on Nimbus ?\",\n",
    "    \"Thanks for the help\"\n",
    "]\n",
    "\n",
    "#Create a new thread\n",
    "config = {\"configurable\": {\"thread_id\": str(uuid.uuid4())}}\n",
    "\n",
    "for input in user_inputs:\n",
    "    time.sleep(1)\n",
    "    print(f\"----------------------------------------\\nUSER : {input}\")\n",
    "    user_message = {\"messages\":[HumanMessage(input)]}\n",
    "    ai_response = product_QnA_agent.invoke(user_message,config=config)\n",
    "    print(f\"AGENT : {ai_response['messages'][-1].content}\")"
   ]
  },
  {
   "cell_type": "code",
   "execution_count": 20,
   "id": "5b95edaf",
   "metadata": {},
   "outputs": [
    {
     "name": "stdout",
     "output_type": "stream",
     "text": [
      "\n",
      "USER 1: The Zenith One packs flagship performance into a slim design. It features the Snapdragon X3 chip, 12GB of RAM, and 256GB of storage. Its 6.7-inch OLED display with 120Hz refresh rate delivers smooth visuals, while the triple camera system excels in low-light photography.\n",
      "\n",
      "USER 2: The Nimbus Mini is a compact 5.8-inch smartphone with the A14 Fusion chip, 8GB RAM, and 256GB storage. It is ideal for users who prefer smaller phones with high performance.\n",
      "\n",
      "USER 1: The price of Zenith One is 899.\n",
      "\n",
      "USER 2: The price of the Nimbus Mini is $749.\n"
     ]
    }
   ],
   "source": [
    "#conversation memory by user\n",
    "def execute_prompt(user, config, prompt):\n",
    "    inputs = {\"messages\":[(\"user\",prompt)]}\n",
    "    ai_response = product_QnA_agent.invoke(inputs,config=config)\n",
    "    print(f\"\\n{user}: {ai_response['messages'][-1].content}\")\n",
    "\n",
    "#Create different session threads for 2 users\n",
    "config_1 = {\"configurable\": {\"thread_id\": str(uuid.uuid4())}}\n",
    "config_2 = {\"configurable\": {\"thread_id\": str(uuid.uuid4())}}\n",
    "\n",
    "#Test both threads\n",
    "execute_prompt(\"USER 1\", config_1, \"Tell me about the features of  Zenith\")\n",
    "execute_prompt(\"USER 2\", config_2, \"Tell me about the features of Nimbus Mini\")\n",
    "execute_prompt(\"USER 1\", config_1, \"What is its price ?\")\n",
    "execute_prompt(\"USER 2\", config_2, \"What is its price ?\")"
   ]
  },
  {
   "cell_type": "markdown",
   "id": "65d47588",
   "metadata": {},
   "source": [
    "# Orders Chatbot"
   ]
  }
 ],
 "metadata": {
  "kernelspec": {
   "display_name": ".venv",
   "language": "python",
   "name": "python3"
  },
  "language_info": {
   "codemirror_mode": {
    "name": "ipython",
    "version": 3
   },
   "file_extension": ".py",
   "mimetype": "text/x-python",
   "name": "python",
   "nbconvert_exporter": "python",
   "pygments_lexer": "ipython3",
   "version": "3.12.3"
  }
 },
 "nbformat": 4,
 "nbformat_minor": 5
}
