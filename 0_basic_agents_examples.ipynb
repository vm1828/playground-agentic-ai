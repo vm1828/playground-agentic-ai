{
 "cells": [
  {
   "cell_type": "markdown",
   "id": "4f6ea461",
   "metadata": {},
   "source": [
    "# Setup\n"
   ]
  },
  {
   "cell_type": "code",
   "execution_count": 1,
   "id": "8735c95c",
   "metadata": {},
   "outputs": [],
   "source": [
    "# %%capture\n",
    "# %pip install langchain==0.3.27\n",
    "# %pip install jupyterlab==4.4.9"
   ]
  },
  {
   "cell_type": "code",
   "execution_count": 1,
   "id": "00988689",
   "metadata": {},
   "outputs": [
    {
     "name": "stderr",
     "output_type": "stream",
     "text": [
      "/home/asdf/playground-agentic-ai/.venv/lib/python3.12/site-packages/tqdm/auto.py:21: TqdmWarning: IProgress not found. Please update jupyter and ipywidgets. See https://ipywidgets.readthedocs.io/en/stable/user_install.html\n",
      "  from .autonotebook import tqdm as notebook_tqdm\n"
     ]
    }
   ],
   "source": [
    "import os\n",
    "import time\n",
    "import uuid\n",
    "import operator\n",
    "from typing import TypedDict, Annotated\n",
    "from dotenv import load_dotenv\n",
    "from IPython.display import Image\n",
    "\n",
    "__import__(\"pysqlite3\")\n",
    "import sys\n",
    "\n",
    "sys.modules[\"sqlite3\"] = sys.modules.pop(\"pysqlite3\")\n",
    "\n",
    "import pandas as pd\n",
    "\n",
    "from langchain.embeddings import HuggingFaceEmbeddings\n",
    "from langchain_core.tools import tool, create_retriever_tool\n",
    "from langchain_core.messages import AnyMessage, AIMessage, SystemMessage, HumanMessage, ToolMessage\n",
    "from langchain_google_genai import ChatGoogleGenerativeAI\n",
    "from langchain_community.document_loaders import PyPDFLoader\n",
    "from langchain_chroma import Chroma\n",
    "from langchain_text_splitters import RecursiveCharacterTextSplitter\n",
    "from langgraph.prebuilt import create_react_agent\n",
    "from langgraph.graph import StateGraph, END\n",
    "from langgraph.checkpoint.memory import MemorySaver"
   ]
  },
  {
   "cell_type": "code",
   "execution_count": 2,
   "id": "4189a7d3",
   "metadata": {},
   "outputs": [],
   "source": [
    "load_dotenv()\n",
    "\n",
    "GOOGLE_API_KEY = os.environ[\"GOOGLE_API_KEY\"]"
   ]
  },
  {
   "cell_type": "code",
   "execution_count": 3,
   "id": "094cb000",
   "metadata": {},
   "outputs": [
    {
     "name": "stderr",
     "output_type": "stream",
     "text": [
      "WARNING: All log messages before absl::InitializeLog() is called are written to STDERR\n",
      "E0000 00:00:1760275581.973689    1978 alts_credentials.cc:93] ALTS creds ignored. Not running on GCP and untrusted ALTS is not enabled.\n",
      "/tmp/ipykernel_1978/1986896818.py:14: LangChainDeprecationWarning: The class `HuggingFaceEmbeddings` was deprecated in LangChain 0.2.2 and will be removed in 1.0. An updated version of the class exists in the :class:`~langchain-huggingface package and should be used instead. To use it run `pip install -U :class:`~langchain-huggingface` and import as `from :class:`~langchain_huggingface import HuggingFaceEmbeddings``.\n",
      "  model_embedding_001 = HuggingFaceEmbeddings(\n"
     ]
    }
   ],
   "source": [
    "# MODELS\n",
    "model_gemini_2_0_flash = ChatGoogleGenerativeAI(\n",
    "    model=\"gemini-2.0-flash\",\n",
    "    google_api_key=GOOGLE_API_KEY,\n",
    "    temperature=0,\n",
    "    max_tokens=100,\n",
    "    max_retries=1,\n",
    ")\n",
    "\n",
    "# model_embedding_001 = GoogleGenerativeAIEmbeddings(\n",
    "#     model=\"models/embedding-001\", google_api_key=GOOGLE_API_KEY\n",
    "# )\n",
    "\n",
    "model_embedding_001 = HuggingFaceEmbeddings(\n",
    "    model_name=\"all-MiniLM-L6-v2\", model_kwargs={\"device\": \"cpu\"}\n",
    ")"
   ]
  },
  {
   "cell_type": "markdown",
   "id": "4c48b06a",
   "metadata": {},
   "source": [
    "# ReAct Agent Example\n"
   ]
  },
  {
   "cell_type": "markdown",
   "id": "d9d8625c",
   "metadata": {},
   "source": [
    "## Create agent\n"
   ]
  },
  {
   "cell_type": "code",
   "execution_count": 4,
   "id": "98d4be79",
   "metadata": {},
   "outputs": [],
   "source": [
    "@tool\n",
    "def find_sum(a: int, b: int) -> int:\n",
    "    \"\"\"\n",
    "    Add two integers and return their sum.\n",
    "    \"\"\"\n",
    "    return a + b\n",
    "\n",
    "\n",
    "@tool\n",
    "def find_product(a: int, b: int) -> int:\n",
    "    \"\"\"\n",
    "    Multiply two integers and return their product.\n",
    "    \"\"\"\n",
    "    return a * b"
   ]
  },
  {
   "cell_type": "code",
   "execution_count": 5,
   "id": "b32a2786",
   "metadata": {},
   "outputs": [],
   "source": [
    "agent_tools = [find_sum, find_product]\n",
    "\n",
    "system_prompt = SystemMessage(\n",
    "    \"\"\"\n",
    "    You are a mathematician who solves math problems using tools only. \n",
    "    Do not solve any problem yourself — always use the available tools to find the solution.\n",
    "    \"\"\"\n",
    ")\n",
    "\n",
    "agent_graph = create_react_agent(\n",
    "    model=model_gemini_2_0_flash, prompt=system_prompt, tools=agent_tools\n",
    ")"
   ]
  },
  {
   "cell_type": "markdown",
   "id": "8026bc6c",
   "metadata": {},
   "source": [
    "## Invoke agent\n"
   ]
  },
  {
   "cell_type": "code",
   "execution_count": 6,
   "id": "3a2b6746",
   "metadata": {},
   "outputs": [],
   "source": [
    "# # Example 1\n",
    "# inputs = {\"messages\": [(\"user\", \"what is the sum of 2 and 3 ?\")]}\n",
    "# result = agent_graph.invoke(inputs)\n",
    "\n",
    "# print(f\"Agent returned : {result['messages'][-1].content} \\n\")\n",
    "# print(\"Step by Step execution : \")\n",
    "# for message in result[\"messages\"]:\n",
    "#     print(message.pretty_repr())"
   ]
  },
  {
   "cell_type": "code",
   "execution_count": 7,
   "id": "b5dbc56b",
   "metadata": {},
   "outputs": [],
   "source": [
    "# # Example 2\n",
    "# inputs = {\"messages\": [(\"user\", \"What is 3 multipled by 2 and 5 + 1 ?\")]}\n",
    "# result = agent_graph.invoke(inputs)\n",
    "\n",
    "# print(f\"Agent returned : {result['messages'][-1].content} \\n\")\n",
    "# print(\"Step by Step execution : \")\n",
    "# for message in result[\"messages\"]:\n",
    "#     print(message.pretty_repr())"
   ]
  },
  {
   "cell_type": "code",
   "execution_count": 8,
   "id": "499f4a87",
   "metadata": {},
   "outputs": [],
   "source": [
    "# # Example 3\n",
    "# inputs = {\"messages\": [(\"user\", \"what is the sum of 2.1 and 3.7 ?\")]}\n",
    "# result = agent_graph.invoke(inputs)\n",
    "\n",
    "# print(f\"Agent returned : {result['messages'][-1].content} \\n\")\n",
    "# print(\"Step by Step execution : \")\n",
    "# for message in result[\"messages\"]:\n",
    "#     print(message.pretty_repr())"
   ]
  },
  {
   "cell_type": "markdown",
   "id": "e899d517",
   "metadata": {},
   "source": [
    "## Debug agent\n"
   ]
  },
  {
   "cell_type": "code",
   "execution_count": 9,
   "id": "6dedb175",
   "metadata": {},
   "outputs": [],
   "source": [
    "agent_graph_debug = create_react_agent(\n",
    "    model=model_gemini_2_0_flash, prompt=system_prompt, tools=agent_tools, debug=True\n",
    ")"
   ]
  },
  {
   "cell_type": "code",
   "execution_count": 10,
   "id": "fff9853e",
   "metadata": {},
   "outputs": [],
   "source": [
    "# inputs = {\"messages\": [(\"user\", \"what is the sum of 2 and 3 ?\")]}\n",
    "# result = agent_graph_debug.invoke(inputs)"
   ]
  },
  {
   "cell_type": "markdown",
   "id": "a790cffa",
   "metadata": {},
   "source": [
    "# Product Q&A Chatbot\n"
   ]
  },
  {
   "cell_type": "markdown",
   "id": "f55eaf4b",
   "metadata": {},
   "source": [
    "## Data\n"
   ]
  },
  {
   "cell_type": "code",
   "execution_count": 11,
   "id": "4ea57dfe",
   "metadata": {},
   "outputs": [
    {
     "data": {
      "text/html": [
       "<div>\n",
       "<style scoped>\n",
       "    .dataframe tbody tr th:only-of-type {\n",
       "        vertical-align: middle;\n",
       "    }\n",
       "\n",
       "    .dataframe tbody tr th {\n",
       "        vertical-align: top;\n",
       "    }\n",
       "\n",
       "    .dataframe thead th {\n",
       "        text-align: right;\n",
       "    }\n",
       "</style>\n",
       "<table border=\"1\" class=\"dataframe\">\n",
       "  <thead>\n",
       "    <tr style=\"text-align: right;\">\n",
       "      <th></th>\n",
       "      <th>Name</th>\n",
       "      <th>Price</th>\n",
       "      <th>ShippingDays</th>\n",
       "    </tr>\n",
       "  </thead>\n",
       "  <tbody>\n",
       "    <tr>\n",
       "      <th>0</th>\n",
       "      <td>Zenith One</td>\n",
       "      <td>899</td>\n",
       "      <td>5</td>\n",
       "    </tr>\n",
       "    <tr>\n",
       "      <th>1</th>\n",
       "      <td>AeroPhone Lite</td>\n",
       "      <td>299</td>\n",
       "      <td>3</td>\n",
       "    </tr>\n",
       "    <tr>\n",
       "      <th>2</th>\n",
       "      <td>Photon X Ultra</td>\n",
       "      <td>1199</td>\n",
       "      <td>7</td>\n",
       "    </tr>\n",
       "    <tr>\n",
       "      <th>3</th>\n",
       "      <td>Nimbus Mini</td>\n",
       "      <td>749</td>\n",
       "      <td>4</td>\n",
       "    </tr>\n",
       "    <tr>\n",
       "      <th>4</th>\n",
       "      <td>Titan Max 5G</td>\n",
       "      <td>999</td>\n",
       "      <td>6</td>\n",
       "    </tr>\n",
       "  </tbody>\n",
       "</table>\n",
       "</div>"
      ],
      "text/plain": [
       "             Name  Price  ShippingDays\n",
       "0      Zenith One    899             5\n",
       "1  AeroPhone Lite    299             3\n",
       "2  Photon X Ultra   1199             7\n",
       "3     Nimbus Mini    749             4\n",
       "4    Titan Max 5G    999             6"
      ]
     },
     "execution_count": 11,
     "metadata": {},
     "output_type": "execute_result"
    }
   ],
   "source": [
    "product_price_df = pd.read_csv(\"data/smartphone_prices.csv\")\n",
    "product_price_df"
   ]
  },
  {
   "cell_type": "code",
   "execution_count": 12,
   "id": "7931b62d",
   "metadata": {},
   "outputs": [
    {
     "data": {
      "text/plain": [
       "[Document(metadata={'producer': 'ReportLab PDF Library - www.reportlab.com', 'creator': '(unspecified)', 'creationdate': '2025-09-30T17:20:58+00:00', 'author': '(anonymous)', 'keywords': '', 'moddate': '2025-09-30T17:20:58+00:00', 'subject': '(unspecified)', 'title': '(anonymous)', 'trapped': '/False', 'source': './data/smartphone_descriptions.pdf', 'total_pages': 1, 'page': 0, 'page_label': '1'}, page_content='Zenith One\\nThe Zenith One packs flagship performance into a slim design. It features the Snapdragon X3 chip,\\n12GB of RAM, and 256GB of storage. Its 6.7-inch OLED display with 120Hz refresh rate delivers\\nsmooth visuals, while the triple camera system excels in low-light photography.\\n AeroPhone Lite\\nAeroPhone Lite is designed for budget-conscious users who don’t want to compromise on quality.\\nWith a MediaTek Helio G95 processor, 6GB RAM, and 128GB storage, it offers snappy\\nperformance for everyday tasks. Its 5000mAh battery ensures two full days of usage.\\n Photon X Ultra\\nPhoton X Ultra is built for mobile photographers and power users. It sports a quad-lens 108MP\\ncamera setup, 16GB of RAM, and a blazing-fast Snapdragon Pro chip. Its curved AMOLED display\\nand 120W fast charging make it a premium powerhouse.\\n Nimbus Mini\\nNimbus Mini is a compact 5.8-inch smartphone that fits comfortably in one hand without sacrificing\\nfeatures. It has the A14 Fusion chip, 8GB RAM, and 256GB storage. Ideal for users who prefer\\nsmaller phones with high performance.\\n Titan Max 5G\\nTitan Max 5G is a rugged smartphone built for extreme conditions. With a reinforced titanium frame,\\nIP69 water resistance, and a massive 8000mAh battery, it’s perfect for outdoor enthusiasts. It\\nsupports 5G, has 12GB RAM, and 512GB expandable storage.')]"
      ]
     },
     "execution_count": 12,
     "metadata": {},
     "output_type": "execute_result"
    }
   ],
   "source": [
    "loader = PyPDFLoader(\"./data/smartphone_descriptions.pdf\")\n",
    "docs = loader.load()\n",
    "docs"
   ]
  },
  {
   "cell_type": "markdown",
   "id": "18408dcc",
   "metadata": {},
   "source": [
    "## Tools\n"
   ]
  },
  {
   "cell_type": "code",
   "execution_count": 13,
   "id": "2da26191",
   "metadata": {},
   "outputs": [
    {
     "name": "stdout",
     "output_type": "stream",
     "text": [
      "899\n",
      "-1\n"
     ]
    }
   ],
   "source": [
    "@tool\n",
    "def get_smartphone_price(smartphone_name: str) -> int:\n",
    "    \"\"\"\n",
    "    Returns the price of a smartphone by name (case-insensitive substring match).\n",
    "    If no match is found, returns -1.\n",
    "    \"\"\"\n",
    "    pattern = f\"^{smartphone_name.strip()}\"\n",
    "    matches = product_price_df[\n",
    "        product_price_df[\"Name\"].str.contains(pattern, case=False, na=False)\n",
    "    ]\n",
    "    if matches.empty:\n",
    "        return -1\n",
    "    return int(matches[\"Price\"].iloc[0])\n",
    "\n",
    "\n",
    "print(get_smartphone_price.invoke(\"zenith\"))\n",
    "print(get_smartphone_price.invoke(\"asdf\"))"
   ]
  },
  {
   "cell_type": "code",
   "execution_count": 14,
   "id": "df2e3285",
   "metadata": {},
   "outputs": [
    {
     "data": {
      "text/plain": [
       "[Document(id='2ad39e4f-99c0-4251-96ce-2d61df104db5', metadata={'title': '(anonymous)', 'keywords': '', 'author': '(anonymous)', 'creationdate': '2025-09-30T17:20:58+00:00', 'page_label': '1', 'page': 0, 'subject': '(unspecified)', 'creator': '(unspecified)', 'total_pages': 1, 'source': './data/smartphone_descriptions.pdf', 'moddate': '2025-09-30T17:20:58+00:00', 'producer': 'ReportLab PDF Library - www.reportlab.com', 'trapped': '/False'}, page_content='Zenith One\\nThe Zenith One packs flagship performance into a slim design. It features the Snapdragon X3 chip,\\n12GB of RAM, and 256GB of storage. Its 6.7-inch OLED display with 120Hz refresh rate delivers\\nsmooth visuals, while the triple camera system excels in low-light photography.\\n AeroPhone Lite\\nAeroPhone Lite is designed for budget-conscious users who don’t want to compromise on quality.\\nWith a MediaTek Helio G95 processor, 6GB RAM, and 128GB storage, it offers snappy\\nperformance for everyday tasks. Its 5000mAh battery ensures two full days of usage.\\n Photon X Ultra\\nPhoton X Ultra is built for mobile photographers and power users. It sports a quad-lens 108MP\\ncamera setup, 16GB of RAM, and a blazing-fast Snapdragon Pro chip. Its curved AMOLED display\\nand 120W fast charging make it a premium powerhouse.\\n Nimbus Mini\\nNimbus Mini is a compact 5.8-inch smartphone that fits comfortably in one hand without sacrificing\\nfeatures. It has the A14 Fusion chip, 8GB RAM, and 256GB storage. Ideal for users who prefer'),\n",
       " Document(id='4a407df0-241d-4290-9928-286727e2c19f', metadata={'subject': '(unspecified)', 'total_pages': 1, 'title': '(anonymous)', 'keywords': '', 'author': '(anonymous)', 'creator': '(unspecified)', 'creationdate': '2025-09-30T17:20:58+00:00', 'page': 0, 'producer': 'ReportLab PDF Library - www.reportlab.com', 'trapped': '/False', 'source': './data/smartphone_descriptions.pdf', 'page_label': '1', 'moddate': '2025-09-30T17:20:58+00:00'}, page_content='Nimbus Mini\\nNimbus Mini is a compact 5.8-inch smartphone that fits comfortably in one hand without sacrificing\\nfeatures. It has the A14 Fusion chip, 8GB RAM, and 256GB storage. Ideal for users who prefer\\nsmaller phones with high performance.\\n Titan Max 5G\\nTitan Max 5G is a rugged smartphone built for extreme conditions. With a reinforced titanium frame,\\nIP69 water resistance, and a massive 8000mAh battery, it’s perfect for outdoor enthusiasts. It\\nsupports 5G, has 12GB RAM, and 512GB expandable storage.')]"
      ]
     },
     "execution_count": 14,
     "metadata": {},
     "output_type": "execute_result"
    }
   ],
   "source": [
    "text_splitter = RecursiveCharacterTextSplitter(chunk_size=1024, chunk_overlap=256)\n",
    "splits = text_splitter.split_documents(docs)\n",
    "\n",
    "feature_store = Chroma.from_documents(documents=splits, embedding=model_embedding_001)\n",
    "\n",
    "get_product_features = create_retriever_tool(\n",
    "    feature_store.as_retriever(search_kwargs={\"k\": 1}),\n",
    "    name=\"Get_Product_Features\",\n",
    "    description=\"\"\"\n",
    "    This store contains details about smartphones. It lists the available smartphones\n",
    "    and their features including camera, memory, storage, design and advantages\n",
    "    \"\"\",\n",
    ")\n",
    "\n",
    "feature_store.as_retriever().invoke(\"Tell me about the Zenith One\")"
   ]
  },
  {
   "cell_type": "markdown",
   "id": "69a929ce",
   "metadata": {},
   "source": [
    "## Chatbot"
   ]
  },
  {
   "cell_type": "code",
   "execution_count": 15,
   "id": "49eca84e",
   "metadata": {},
   "outputs": [],
   "source": [
    "system_prompt = SystemMessage(\n",
    "    \"\"\"\n",
    "    You are professional chatbot that answers questions about smartphones sold by your company.\n",
    "    To answer questions about smartphones, you will ONLY use the available tools and NOT your own memory.\n",
    "    You will handle small talk and greetings by producing professional responses.\n",
    "    \"\"\"\n",
    ")\n",
    "checkpointer = MemorySaver()  # conversation memory\n",
    "\n",
    "product_QnA_agent = create_react_agent(\n",
    "    model=model_gemini_2_0_flash,\n",
    "    tools=[get_smartphone_price, get_product_features],\n",
    "    prompt=system_prompt,\n",
    "    debug=False,\n",
    "    checkpointer=checkpointer,\n",
    ")"
   ]
  },
  {
   "cell_type": "code",
   "execution_count": 16,
   "id": "9c6ef48f",
   "metadata": {},
   "outputs": [],
   "source": [
    "# # To maintain memory, each request should be in the context of a thread.\n",
    "# # Each user conversation will use a separate thread ID\n",
    "# config = {\"configurable\": {\"thread_id\": uuid.uuid4()}}\n",
    "\n",
    "# inputs = {\n",
    "#     \"messages\": [HumanMessage(\"What are the features and pricing for Zenith One?\")]\n",
    "# }\n",
    "\n",
    "# # Use streaming to print responses as the agent  does the work.\n",
    "# # This is an alternate way to stream agent responses without waiting for the agent to finish\n",
    "# for stream in product_QnA_agent.stream(inputs, config, stream_mode=\"values\"):\n",
    "#     message = stream[\"messages\"][-1]\n",
    "#     if isinstance(message, tuple):\n",
    "#         print(message)\n",
    "#     else:\n",
    "#         message.pretty_print()"
   ]
  },
  {
   "cell_type": "markdown",
   "id": "588e57fa",
   "metadata": {},
   "source": [
    "## Execute"
   ]
  },
  {
   "cell_type": "code",
   "execution_count": 17,
   "id": "fb94cedc",
   "metadata": {},
   "outputs": [],
   "source": [
    "# # This simulates the conversation between the user and the Agentic chatbot\n",
    "# user_inputs = [\n",
    "#     \"Hello\",\n",
    "#     \"I am looking to buy a smartphone\",\n",
    "#     \"Give me a list of available smartphone names\",\n",
    "#     \"Tell me about the features of Zenith One\",\n",
    "#     \"How much does it cost?\",\n",
    "#     \"Give me similar information about TitanMax\",\n",
    "#     \"What info do you have on Nimbus ?\",\n",
    "#     \"Thanks for the help\",\n",
    "# ]\n",
    "\n",
    "# # Create a new thread\n",
    "# config = {\"configurable\": {\"thread_id\": str(uuid.uuid4())}}\n",
    "\n",
    "# for input in user_inputs:\n",
    "#     time.sleep(1)\n",
    "#     print(f\"----------------------------------------\\nUSER : {input}\")\n",
    "#     user_message = {\"messages\": [HumanMessage(input)]}\n",
    "#     ai_response = product_QnA_agent.invoke(user_message, config=config)\n",
    "#     print(f\"AGENT : {ai_response['messages'][-1].content}\")"
   ]
  },
  {
   "cell_type": "code",
   "execution_count": 18,
   "id": "5b95edaf",
   "metadata": {},
   "outputs": [],
   "source": [
    "# # conversation memory by user\n",
    "# def execute_prompt(user, config, prompt):\n",
    "#     inputs = {\"messages\": [(\"user\", prompt)]}\n",
    "#     ai_response = product_QnA_agent.invoke(inputs, config=config)\n",
    "#     print(f\"\\n{user}: {ai_response['messages'][-1].content}\")\n",
    "\n",
    "\n",
    "# # Create different session threads for 2 users\n",
    "# config_1 = {\"configurable\": {\"thread_id\": str(uuid.uuid4())}}\n",
    "# config_2 = {\"configurable\": {\"thread_id\": str(uuid.uuid4())}}\n",
    "\n",
    "# # Test both threads\n",
    "# execute_prompt(\"USER 1\", config_1, \"Tell me about the features of  Zenith\")\n",
    "# execute_prompt(\"USER 2\", config_2, \"Tell me about the features of Nimbus Mini\")\n",
    "# execute_prompt(\"USER 1\", config_1, \"What is its price ?\")\n",
    "# execute_prompt(\"USER 2\", config_2, \"What is its price ?\")"
   ]
  },
  {
   "cell_type": "markdown",
   "id": "65d47588",
   "metadata": {},
   "source": [
    "# Orders Chatbot"
   ]
  },
  {
   "cell_type": "markdown",
   "id": "ca4cd559",
   "metadata": {},
   "source": [
    "## Data"
   ]
  },
  {
   "cell_type": "code",
   "execution_count": 19,
   "id": "efcdaea6",
   "metadata": {},
   "outputs": [
    {
     "data": {
      "text/html": [
       "<div>\n",
       "<style scoped>\n",
       "    .dataframe tbody tr th:only-of-type {\n",
       "        vertical-align: middle;\n",
       "    }\n",
       "\n",
       "    .dataframe tbody tr th {\n",
       "        vertical-align: top;\n",
       "    }\n",
       "\n",
       "    .dataframe thead th {\n",
       "        text-align: right;\n",
       "    }\n",
       "</style>\n",
       "<table border=\"1\" class=\"dataframe\">\n",
       "  <thead>\n",
       "    <tr style=\"text-align: right;\">\n",
       "      <th></th>\n",
       "      <th>Order ID</th>\n",
       "      <th>Product Ordered</th>\n",
       "      <th>Quantity Ordered</th>\n",
       "      <th>Delivery Date</th>\n",
       "    </tr>\n",
       "  </thead>\n",
       "  <tbody>\n",
       "    <tr>\n",
       "      <th>0</th>\n",
       "      <td>ORD-5821</td>\n",
       "      <td>Zenith One</td>\n",
       "      <td>2</td>\n",
       "      <td>2024-10-12</td>\n",
       "    </tr>\n",
       "    <tr>\n",
       "      <th>1</th>\n",
       "      <td>ORD-9022</td>\n",
       "      <td>Titan Max 5G</td>\n",
       "      <td>5</td>\n",
       "      <td>2024-10-30</td>\n",
       "    </tr>\n",
       "    <tr>\n",
       "      <th>2</th>\n",
       "      <td>ORD-7365</td>\n",
       "      <td>Zenith One</td>\n",
       "      <td>3</td>\n",
       "      <td>2024-10-22</td>\n",
       "    </tr>\n",
       "    <tr>\n",
       "      <th>3</th>\n",
       "      <td>ORD-8510</td>\n",
       "      <td>Nimbus Mini</td>\n",
       "      <td>2</td>\n",
       "      <td>2024-10-26</td>\n",
       "    </tr>\n",
       "    <tr>\n",
       "      <th>4</th>\n",
       "      <td>ORD-6947</td>\n",
       "      <td>AeroPhone Lite</td>\n",
       "      <td>1</td>\n",
       "      <td>2024-10-18</td>\n",
       "    </tr>\n",
       "  </tbody>\n",
       "</table>\n",
       "</div>"
      ],
      "text/plain": [
       "   Order ID Product Ordered  Quantity Ordered Delivery Date\n",
       "0  ORD-5821      Zenith One                 2    2024-10-12\n",
       "1  ORD-9022    Titan Max 5G                 5    2024-10-30\n",
       "2  ORD-7365      Zenith One                 3    2024-10-22\n",
       "3  ORD-8510     Nimbus Mini                 2    2024-10-26\n",
       "4  ORD-6947  AeroPhone Lite                 1    2024-10-18"
      ]
     },
     "execution_count": 19,
     "metadata": {},
     "output_type": "execute_result"
    }
   ],
   "source": [
    "product_orders_df = pd.read_csv(\"data/smartphone_orders.csv\")\n",
    "product_orders_df"
   ]
  },
  {
   "cell_type": "markdown",
   "id": "83dd7788",
   "metadata": {},
   "source": [
    "## Tools"
   ]
  },
  {
   "cell_type": "code",
   "execution_count": 20,
   "id": "3ba12914",
   "metadata": {},
   "outputs": [
    {
     "name": "stdout",
     "output_type": "stream",
     "text": [
      "{'Order ID': 'ORD-5821', 'Product Ordered': 'Zenith One', 'Quantity Ordered': 2, 'Delivery Date': '2024-10-12'}\n",
      "{'Order ID': 'ORD-8510', 'Product Ordered': 'Nimbus Mini', 'Quantity Ordered': 2, 'Delivery Date': '2024-10-26'}\n"
     ]
    }
   ],
   "source": [
    "@tool\n",
    "def get_order_details(order_id: str) -> str:\n",
    "    \"\"\"\n",
    "    This function returns details about a smartphone order, given an order ID\n",
    "    It performs an exact match between the input order id and available order ids\n",
    "    If a match is found, it returns products (smartphones) ordered, quantity ordered and delivery date.\n",
    "    If there is NO match found, it returns -1\n",
    "    \"\"\"\n",
    "    matches = product_orders_df[product_orders_df[\"Order ID\"] == order_id]\n",
    "\n",
    "    if matches.empty:\n",
    "        return -1\n",
    "    else:\n",
    "        return matches.iloc[0].to_dict()\n",
    "\n",
    "\n",
    "print(get_order_details.invoke(\"ORD-5821\"))\n",
    "print(get_order_details.invoke(\"ORD-8510\"))"
   ]
  },
  {
   "cell_type": "code",
   "execution_count": 21,
   "id": "c0d25866",
   "metadata": {},
   "outputs": [],
   "source": [
    "@tool\n",
    "def update_quantity(order_id: str, new_quantity: int) -> bool:\n",
    "    \"\"\"\n",
    "    This function updates the quantity of products (smartphones) ordered for a given order Id.\n",
    "    It there are no matching orders, it returns -1.\n",
    "    \"\"\"\n",
    "    matches = product_orders_df[product_orders_df[\"Order ID\"] == order_id]\n",
    "\n",
    "    if matches.empty:\n",
    "        return -1\n",
    "    else:\n",
    "        product_orders_df.loc[\n",
    "            product_orders_df[\"Order ID\"] == order_id, \"Quantity Ordered\"\n",
    "        ] = new_quantity\n",
    "        return True"
   ]
  },
  {
   "cell_type": "code",
   "execution_count": 22,
   "id": "c3fdbfca",
   "metadata": {},
   "outputs": [],
   "source": [
    "# # to test comment out @tool decorator\n",
    "# print(get_order_details(\"ORD-5821\"))\n",
    "# print(update_quantity(\"ORD-5821\", 20))\n",
    "# print(get_order_details(\"ORD-9022\"))\n",
    "# print(update_quantity(\"ORD-9022\", 50))\n",
    "# product_orders_df"
   ]
  },
  {
   "cell_type": "markdown",
   "id": "6979bd68",
   "metadata": {},
   "source": [
    "## Chatbot"
   ]
  },
  {
   "cell_type": "code",
   "execution_count": 23,
   "id": "464c0b4c",
   "metadata": {},
   "outputs": [],
   "source": [
    "# An Agent State class that keeps the state of the agent while it answers a query\n",
    "class OrdersAgentState(TypedDict):\n",
    "    messages: Annotated[list[AnyMessage], operator.add]\n",
    "\n",
    "\n",
    "# An Agent class\n",
    "class OrdersAgent:\n",
    "\n",
    "    def __init__(self, model, tools, system_prompt, debug):\n",
    "\n",
    "        self.system_prompt = system_prompt\n",
    "        self.debug = debug\n",
    "\n",
    "        # Setup the graph for the agent manually\n",
    "        agent_graph = StateGraph(OrdersAgentState)\n",
    "        agent_graph.add_node(\"orders_llm\", self.call_llm)\n",
    "        agent_graph.add_node(\"orders_tools\", self.call_tools)\n",
    "        agent_graph.add_conditional_edges(\n",
    "            \"orders_llm\", self.is_tool_call, {True: \"orders_tools\", False: END}\n",
    "        )\n",
    "        agent_graph.add_edge(\"orders_tools\", \"orders_llm\")\n",
    "        agent_graph.set_entry_point(\"orders_llm\")\n",
    "        self.memory = MemorySaver()  # chat memory\n",
    "        self.agent_graph = agent_graph.compile(\n",
    "            checkpointer=self.memory\n",
    "        )  # compile the graph\n",
    "\n",
    "        # Setup tools\n",
    "        self.tools = {tool.name: tool for tool in tools}\n",
    "        if self.debug:\n",
    "            print(\"\\nTools loaded :\", self.tools)\n",
    "        self.model = model.bind_tools(tools)  # attach tools to model\n",
    "\n",
    "    # Call the LLM with the messages to get next action/result\n",
    "    def call_llm(self, state: OrdersAgentState):\n",
    "\n",
    "        messages = state[\"messages\"]\n",
    "        if self.system_prompt:\n",
    "            messages = [SystemMessage(content=self.system_prompt)] + messages\n",
    "\n",
    "        result = self.model.invoke(\n",
    "            messages\n",
    "        )  # invoke the model with the message history\n",
    "        if self.debug:\n",
    "            print(f\"\\nLLM Returned : {result}\")\n",
    "\n",
    "        return {\"messages\": [result]}  # Return the LLM output\n",
    "\n",
    "    # Check if the next action is a tool call.\n",
    "    def is_tool_call(self, state: OrdersAgentState):\n",
    "        last_message = state[\"messages\"][-1]\n",
    "        if len(last_message.tool_calls) > 0:\n",
    "            return True\n",
    "        else:\n",
    "            return False\n",
    "\n",
    "    # Execute the tool requested with the given parameters\n",
    "    def call_tools(self, state: OrdersAgentState):\n",
    "        tool_calls = state[\"messages\"][-1].tool_calls\n",
    "        results = []\n",
    "\n",
    "        for tool in tool_calls:\n",
    "            # Handle tool missing error\n",
    "            if not tool[\"name\"] in self.tools:\n",
    "                print(f\"Unknown tool name {tool}\")\n",
    "                result = \"Invalid tool found. Please retry\"\n",
    "            else:\n",
    "                result = self.tools[tool[\"name\"]].invoke(tool[\"args\"])\n",
    "\n",
    "            # append results to the list of tool results\n",
    "            results.append(\n",
    "                ToolMessage(\n",
    "                    tool_call_id=tool[\"id\"], name=tool[\"name\"], content=str(result)\n",
    "                )\n",
    "            )\n",
    "\n",
    "            if self.debug:\n",
    "                print(f\"\\nTools returned {results}\")\n",
    "            # return tool results\n",
    "            return {\"messages\": results}"
   ]
  },
  {
   "cell_type": "code",
   "execution_count": 24,
   "id": "7c076d68",
   "metadata": {},
   "outputs": [
    {
     "data": {
      "image/png": "[encoded data removed]",
      "text/plain": [
       "<IPython.core.display.Image object>"
      ]
     },
     "execution_count": 24,
     "metadata": {},
     "output_type": "execute_result"
    }
   ],
   "source": [
    "system_prompt = \"\"\"\n",
    "    You are professional chatbot that manages orders for smartphones sold by our company.\n",
    "    The tools allow for retrieving order details as well as update order quantity.\n",
    "    Do NOT reveal information about other orders than the one requested.\n",
    "    You will handle small talk and greetings by producing professional responses.\n",
    "    \"\"\"\n",
    "\n",
    "orders_agent = OrdersAgent(\n",
    "    model_gemini_2_0_flash,\n",
    "    [get_order_details, update_quantity],\n",
    "    system_prompt,\n",
    "    debug=False,\n",
    ")\n",
    "\n",
    "# Visualize the Agent\n",
    "Image(orders_agent.agent_graph.get_graph().draw_png())"
   ]
  },
  {
   "cell_type": "markdown",
   "id": "baae5668",
   "metadata": {},
   "source": [
    "## Execute"
   ]
  },
  {
   "cell_type": "code",
   "execution_count": 25,
   "id": "69a1ade5",
   "metadata": {},
   "outputs": [],
   "source": [
    "# user_inputs = [\n",
    "#     \"How are you doing?\",\n",
    "#     \"Please show me the details of the order ORD-5821\",\n",
    "#     \"Can you add one more of that laptop to the order? \",\n",
    "#     \"Can you show me the details again ? \",\n",
    "#     \"What about order ORD-9999 ?\",\n",
    "#     \"Bye\",\n",
    "# ]\n",
    "\n",
    "# config = {\"configurable\": {\"thread_id\": str(uuid.uuid4())}}  # create a new thread\n",
    "\n",
    "# for input in user_inputs:\n",
    "#     print(f\"----------------------------------------\\nUSER : {input}\")\n",
    "#     user_message = {\"messages\": [HumanMessage(input)]}  # format the user message\n",
    "#     ai_response = orders_agent.agent_graph.invoke(\n",
    "#         user_message, config=config\n",
    "#     )  # get response from the agent\n",
    "#     print(f\"\\nAGENT : {ai_response['messages'][-1].content}\")"
   ]
  },
  {
   "cell_type": "markdown",
   "id": "942147f3",
   "metadata": {},
   "source": [
    "# Reflection-based Summary Agent"
   ]
  },
  {
   "cell_type": "code",
   "execution_count": 26,
   "id": "6ee66fb9",
   "metadata": {},
   "outputs": [],
   "source": [
    "summarizer_prompt = \"\"\"\n",
    "You are a document summarizer. \n",
    "Summarize the provided text in fewer than 50 words. \n",
    "If feedback or critique is given, revise your previous summary based on that input.\n",
    "\"\"\"\n",
    "\n",
    "\n",
    "reviewer_prompt = \"\"\"\n",
    "You are a reviewer evaluating summaries of a document. \n",
    "Compare the original text with the generated summary. \n",
    "Assess its accuracy and completeness, and give improvement suggestions in fewer than 50 words.\n",
    "\"\"\""
   ]
  },
  {
   "cell_type": "code",
   "execution_count": 27,
   "id": "ece28692",
   "metadata": {},
   "outputs": [],
   "source": [
    "class SummaryAgentState(TypedDict):\n",
    "    messages: Annotated[list[AnyMessage], operator.add]\n",
    "\n",
    "\n",
    "class SummaryAgent:\n",
    "\n",
    "    def __init__(self, model, summarizer_prompt, reviewer_prompt, debug):\n",
    "        self.model = model\n",
    "        self.summarizer_prompt = summarizer_prompt\n",
    "        self.reviewer_prompt = reviewer_prompt\n",
    "        self.debug = debug\n",
    "\n",
    "        # Setup the graph for the agent manually\n",
    "        agent_graph = StateGraph(SummaryAgentState)\n",
    "        agent_graph.add_node(\"summarizer\", self.generate_summary)\n",
    "        agent_graph.add_node(\"reviewer\", self.review_summary)\n",
    "        agent_graph.add_conditional_edges(\n",
    "            \"summarizer\", self.should_continue, {True: \"reviewer\", False: END}\n",
    "        )\n",
    "        agent_graph.add_edge(\"reviewer\", \"summarizer\")\n",
    "        agent_graph.set_entry_point(\"summarizer\")\n",
    "        self.memory = MemorySaver()  # chat memory\n",
    "        self.agent_graph = agent_graph.compile(\n",
    "            checkpointer=self.memory\n",
    "        )  # compile the graph\n",
    "        self.iteration = 1\n",
    "\n",
    "    def generate_summary(self, state: SummaryAgentState):\n",
    "        messages = state[\"messages\"]\n",
    "        messages = [SystemMessage(content=self.summarizer_prompt)] + messages\n",
    "\n",
    "        # Invoke summarizer with the message history\n",
    "        result = self.model.invoke(messages)\n",
    "\n",
    "        if self.debug:\n",
    "            print(\n",
    "                f\"==============\\nSummarizer output:\\n{result.content}\\n==============\\n\"\n",
    "            )\n",
    "        # tagged_result = AIMessage(content=f\"[SUMMARY]\\n{result.content}\")\n",
    "        return {\"messages\": [result]}\n",
    "\n",
    "    def review_summary(self, state: SummaryAgentState):\n",
    "        messages = state[\"messages\"]\n",
    "        messages = [SystemMessage(content=self.reviewer_prompt)] + messages\n",
    "\n",
    "        # Invoke reviewer with the message history\n",
    "        result = self.model.invoke(messages)\n",
    "\n",
    "        if self.debug:\n",
    "            print(f\"*************\\nReviewer output:\\n{result.content}\\n*************\\n\")\n",
    "        # tagged_result = AIMessage(content=f\"[REVIEW]\\n{result.content}\")\n",
    "        return {\"messages\": [result]}\n",
    "\n",
    "    def should_continue(self, _: SummaryAgentState):\n",
    "\n",
    "        if self.debug:\n",
    "            print(f\"Iteration number: {self.iteration}\\n\")\n",
    "\n",
    "        # Stop after 2 iterations\n",
    "        if self.iteration > 2:\n",
    "            return False\n",
    "        self.iteration += 1\n",
    "        return True"
   ]
  },
  {
   "cell_type": "code",
   "execution_count": 28,
   "id": "34c6831b",
   "metadata": {},
   "outputs": [
    {
     "data": {
      "image/png": "[encoded data removed]",
      "text/plain": [
       "<IPython.core.display.Image object>"
      ]
     },
     "execution_count": 28,
     "metadata": {},
     "output_type": "execute_result"
    }
   ],
   "source": [
    "summary_chatbot = SummaryAgent(\n",
    "    model_gemini_2_0_flash, summarizer_prompt, reviewer_prompt, debug=True\n",
    ")\n",
    "\n",
    "Image(summary_chatbot.agent_graph.get_graph().draw_png())"
   ]
  },
  {
   "cell_type": "code",
   "execution_count": 29,
   "id": "4a419a89",
   "metadata": {},
   "outputs": [
    {
     "name": "stdout",
     "output_type": "stream",
     "text": [
      "The  global  transition  toward  renewable  energy  is  gaining  momentum  as  nations  seek  to   reduce   their   dependence   on   fossil   fuels   and   address   the   escalating   threats   of   climate   change.   Renewable   energy   sources—such   as   solar,   wind,   hydroelectric,   and   geothermal   power—are   being   increasingly   embraced   due   to   their   sustainability,   lower   greenhouse   gas   emissions,   and   long-term   economic   benefits.   Among   these,   solar   and   wind   energy   have   experienced   the   most   significant   growth   over   the   past   decade,   fueled   by   rapid   technological   advancements,   declining   costs,   and   supportive   government   incentives.   Solar  energy,  for  example,  has  become  far  more  accessible  thanks  to  improvements  in   photovoltaic   cell   efficiency   and   a   decrease   in   manufacturing   costs.   Rooftop   solar   panels   are   now   common   in   both   urban   and   rural   areas,   empowering   households   and   businesses   to   generate   their   own   electricity   and   even   contribute   to   the   grid.   Similarly,   wind   power   technology   has   evolved,   with   modern   turbines   capable   of   generating   electricity   at   lower   wind   speeds,   making   wind   farms   viable   in   more   locations   around   the   world.   Governments  and  international  organizations  have  set  ambitious  goals  for  reducing  carbon   emissions   and   achieving   net-zero   targets   by   mid-century.   These   objectives   are   driving   large-scale   investments   in   renewable   energy   infrastructure,   including   smart   grids,   offshore   wind   farms,   and   large   solar   installations.   Despite  the  optimism,  the  renewable  energy  transition  faces  several  challenges.  Energy   storage   remains   a   critical   issue,   especially   given   the   intermittent   nature   of   solar   and   wind   power.   Advancements   in   battery   technologies—particularly   lithium-ion   and   emerging   alternatives   like   solid-state   and   flow   batteries—are   crucial   for   storing   excess   energy   and   ensuring   a   stable   power   supply.   Additionally,   concerns   around   the   environmental   impact   of   mining   rare   earth   materials   used   in   batteries   and   solar   panels   must   be   addressed   through   recycling   and   innovation.   Another  challenge  is  modernizing  existing  energy  grids  to  accommodate  decentralized  and   variable   energy   inputs.   Smart   grid   technology,   automation,   and   AI-driven   energy   management   systems   are   increasingly   being   explored   to   enhance   grid   reliability   and   efficiency.   In  conclusion,  while  challenges  remain,  the  shift  toward  renewable  energy  marks  a   fundamental   transformation   in   how   the   world   produces   and   consumes   power.   Continued   innovation,   investment,   and   policy   support   are   essential   to   ensuring   a   sustainable   and   resilient   energy   future   for   all.\n"
     ]
    }
   ],
   "source": [
    "loader = PyPDFLoader(\"./data/renewable_energy.pdf\")\n",
    "docs = loader.load()\n",
    "source_content = docs[0].page_content.replace(\"\\n\", \" \")\n",
    "print(source_content)"
   ]
  },
  {
   "cell_type": "code",
   "execution_count": 30,
   "id": "a2eea00d",
   "metadata": {},
   "outputs": [],
   "source": [
    "# config = {\"configurable\": {\"thread_id\": str(uuid.uuid4())}}\n",
    "\n",
    "# messages = [HumanMessage(content=source_content)]\n",
    "# result = summary_chatbot.agent_graph.invoke({\"messages\": messages}, config)"
   ]
  },
  {
   "cell_type": "code",
   "execution_count": 31,
   "id": "b47eb10d",
   "metadata": {},
   "outputs": [],
   "source": [
    "# summary_chatbot = SummaryAgent(\n",
    "#     model_gemini_2_0_flash, summarizer_prompt, reviewer_prompt, debug=False\n",
    "# )\n",
    "\n",
    "\n",
    "# user_inputs = [\n",
    "#     source_content,\n",
    "#     \"Can you rewrite the review making it more scientific?\",\n",
    "#     \"Can you make it even shorter?\",\n",
    "# ]\n",
    "\n",
    "# # Create a new thread\n",
    "# config = {\"configurable\": {\"thread_id\": str(uuid.uuid4())}}\n",
    "\n",
    "# # Given the number of iterations, this will take a long time.\n",
    "# for input in user_inputs:\n",
    "#     print(f\"============================================\\nUSER:\\n{input}\")\n",
    "#     # Format the user message\n",
    "#     user_message = {\"messages\": [HumanMessage(input)]}\n",
    "#     # Get response from the agent\n",
    "#     ai_response = summary_chatbot.agent_graph.invoke(user_message, config=config)\n",
    "#     # Print the response\n",
    "#     print(f\"\\nAGENT:\")\n",
    "#     summary = ai_response[\"messages\"][-1].content\n",
    "#     if not summary:\n",
    "#         summary = ai_response[\"messages\"][-3].content\n",
    "#     print(summary)\n",
    "#     # for m in ai_response['messages']:\n",
    "#     #     print(m.type)\n",
    "#     #     print(m.content)\n",
    "#     #     print(\"--------------------------------------------\")"
   ]
  },
  {
   "cell_type": "markdown",
   "id": "be66a81d",
   "metadata": {},
   "source": [
    "# Routing-based Multiagent Chantbot"
   ]
  },
  {
   "cell_type": "code",
   "execution_count": 32,
   "id": "b0d3688e",
   "metadata": {},
   "outputs": [],
   "source": [
    "import functools\n",
    "\n",
    "\n",
    "def agent_node(state, agent, name, config):\n",
    "    \"\"\"Helper function to invoke an agent\"\"\"\n",
    "\n",
    "    # Extract thread id from request for conversation memory\n",
    "    thread_id = config[\"metadata\"][\"thread_id\"]\n",
    "    # Set the config for calling the agent\n",
    "    agent_config = {\"configurable\": {\"thread_id\": thread_id}}\n",
    "    # Invoke the agent with the state\n",
    "    result = agent.invoke(state, agent_config)\n",
    "\n",
    "    # Convert the agent output into a format that is suitable to append to the global state\n",
    "    if isinstance(result, ToolMessage):\n",
    "        pass\n",
    "    else:\n",
    "        final_result = AIMessage(result[\"messages\"][-1].content)\n",
    "    return {\"messages\": [final_result]}\n",
    "\n",
    "\n",
    "product_QnA_node = functools.partial(\n",
    "    agent_node, agent=product_QnA_agent, name=\"Product_QnA_Agent\"\n",
    ")\n",
    "orders_node = functools.partial(\n",
    "    agent_node, agent=orders_agent.agent_graph, name=\"Orders_Agent\"\n",
    ")\n",
    "# nodes are partially intialized and need only state and config"
   ]
  },
  {
   "cell_type": "code",
   "execution_count": null,
   "id": "ba449a21",
   "metadata": {},
   "outputs": [],
   "source": [
    "class RouterAgentState(TypedDict):\n",
    "    messages: Annotated[list[AnyMessage], operator.add]\n",
    "\n",
    "\n",
    "class RouterAgent:\n",
    "\n",
    "    def __init__(self, model, system_prompt, smalltalk_prompt, debug=False):\n",
    "\n",
    "        self.system_prompt = system_prompt\n",
    "        self.smalltalk_prompt = smalltalk_prompt\n",
    "        self.model = model\n",
    "        self.debug = debug\n",
    "\n",
    "        router_graph = StateGraph(RouterAgentState)\n",
    "        router_graph.add_node(\"Router\", self.call_llm)\n",
    "        router_graph.add_node(\"Product_Agent\", product_QnA_node)\n",
    "        router_graph.add_node(\"Orders_Agent\", orders_node)\n",
    "        router_graph.add_node(\"Small_Talk\", self.respond_smalltalk)\n",
    "\n",
    "        router_graph.add_conditional_edges(\n",
    "            \"Router\",\n",
    "            self.find_route,\n",
    "            {\n",
    "                \"PRODUCT\": \"Product_Agent\",\n",
    "                \"ORDER\": \"Orders_Agent\",\n",
    "                \"SMALLTALK\": \"Small_Talk\",\n",
    "                \"END\": END,\n",
    "            },\n",
    "        )\n",
    "        router_graph.add_edge(\"Product_Agent\", END)\n",
    "        router_graph.add_edge(\"Orders_Agent\", END)\n",
    "        router_graph.add_edge(\"Small_Talk\", END)\n",
    "        router_graph.set_entry_point(\"Router\")\n",
    "        self.router_graph = router_graph.compile()\n",
    "\n",
    "    def call_llm(self, state: RouterAgentState):\n",
    "\n",
    "        messages = state[\"messages\"]\n",
    "        if self.debug:\n",
    "            print(f\"Call LLM received {messages}\")\n",
    "\n",
    "        result = self.model.invoke(\n",
    "            [SystemMessage(content=self.system_prompt)] + messages\n",
    "            if self.system_prompt\n",
    "            else messages\n",
    "        )\n",
    "        if self.debug:\n",
    "            print(f\"Call LLM result {result}\")\n",
    "\n",
    "        return {\"messages\": [result]}\n",
    "\n",
    "    def respond_smalltalk(self, state: RouterAgentState):\n",
    "\n",
    "        messages = state[\"messages\"]\n",
    "        if self.debug:\n",
    "            print(f\"Small talk received: {messages}\")\n",
    "\n",
    "        result = self.model.invoke(\n",
    "            [SystemMessage(content=self.system_prompt)] + messages\n",
    "            if self.system_prompt\n",
    "            else messages\n",
    "        )\n",
    "        if self.debug:\n",
    "            print(f\"Small talk result: {result}\")\n",
    "\n",
    "        return {\"messages\": [result]}\n",
    "\n",
    "    def find_route(self, state: RouterAgentState):\n",
    "        last_message = state[\"messages\"][-1]\n",
    "        if self.debug:\n",
    "            print(\"Router: Last result from LLM : \", last_message)\n",
    "\n",
    "        destination = last_message.content\n",
    "        if self.debug:\n",
    "            print(f\"Destination chosen : {destination}\")\n",
    "        return destination"
   ]
  },
  {
   "cell_type": "code",
   "execution_count": 34,
   "id": "0757bfec",
   "metadata": {},
   "outputs": [
    {
     "data": {
      "image/png": "[encoded data removed]",
      "text/plain": [
       "<IPython.core.display.Image object>"
      ]
     },
     "execution_count": 34,
     "metadata": {},
     "output_type": "execute_result"
    }
   ],
   "source": [
    "system_prompt = \"\"\"\n",
    "You are a Router. Analyze the user's query and classify it into one of four categories:\n",
    "\n",
    "SMALLTALK — Greetings, farewells, or casual conversation.\n",
    "PRODUCT — Questions about laptop features, specifications, or pricing.\n",
    "ORDER — Questions about laptop orders, including status, details, or updates.\n",
    "END — None of the above.\n",
    "\n",
    "Respond with exactly one of these words: SMALLTALK, PRODUCT, ORDER, or END.\n",
    "\"\"\"\n",
    "\n",
    "smalltalk_prompt = \"\"\"\n",
    "You are a polite assistant for a laptop retailer.\n",
    "If the user greets you or makes small talk, respond briefly and professionally.\n",
    "Mention that you can also answer questions about laptop products and help with order status or updates.\n",
    "\"\"\"\n",
    "\n",
    "router_agent = RouterAgent(model_gemini_2_0_flash, system_prompt, smalltalk_prompt, debug=False)\n",
    "\n",
    "Image(router_agent.router_graph.get_graph().draw_png())"
   ]
  },
  {
   "cell_type": "code",
   "execution_count": 35,
   "id": "96e6db4b",
   "metadata": {},
   "outputs": [
    {
     "name": "stdout",
     "output_type": "stream",
     "text": [
      "================================ Human Message =================================\n",
      "\n",
      "Tell me about the features of Nimbus Mini\n",
      "================================== Ai Message ==================================\n",
      "\n",
      "PRODUCT\n",
      "================================== Ai Message ==================================\n",
      "\n",
      "Nimbus Mini is a compact 5.8-inch smartphone that fits comfortably in one hand without sacrificing\n",
      "features. It has the A14 Fusion chip, 8GB RAM, and 256GB storage. Ideal for users who prefer\n",
      "smaller phones with high performance.\n"
     ]
    }
   ],
   "source": [
    "messages = [HumanMessage(content=\"Tell me about the features of Nimbus Mini\")]\n",
    "config = {\"configurable\": {\"thread_id\": str(uuid.uuid4())}}\n",
    "result = router_agent.router_graph.invoke({\"messages\": messages}, config)\n",
    "for message in result[\"messages\"]:\n",
    "    print(message.pretty_repr())"
   ]
  },
  {
   "cell_type": "code",
   "execution_count": 58,
   "id": "c4032cd2",
   "metadata": {},
   "outputs": [
    {
     "name": "stdout",
     "output_type": "stream",
     "text": [
      "================================ Human Message =================================\n",
      "\n",
      "What is the status of order ORD-5821?\n",
      "================================== Ai Message ==================================\n",
      "\n",
      "ORDER\n",
      "================================== Ai Message ==================================\n",
      "\n",
      " ORD-5821 contains 2 smartphones and will be delivered on 2024-03-15.\n"
     ]
    }
   ],
   "source": [
    "messages = [HumanMessage(content=\"What is the status of order ORD-5821?\")]\n",
    "config = {\"configurable\": {\"thread_id\": str(uuid.uuid4())}}\n",
    "result = router_agent.router_graph.invoke({\"messages\": messages}, config)\n",
    "for message in result[\"messages\"]:\n",
    "    print(message.pretty_repr())"
   ]
  },
  {
   "cell_type": "code",
   "execution_count": 47,
   "id": "0144a27d",
   "metadata": {},
   "outputs": [
    {
     "name": "stdout",
     "output_type": "stream",
     "text": [
      "----------------------------------------\n",
      "USER : How are you doing?\n",
      "\n",
      "AGENT : How are you doing?\n",
      "----------------------------------------\n",
      "USER : Please show me the details of the order ORD-5821\n",
      "\n",
      "AGENT :  DETAILS:\n",
      "```json\n",
      "{\n",
      "  \"products\": \"Samsung Galaxy S23\",\n",
      "  \"quantity\": 2,\n",
      "  \"delivery_date\": \"2024-03-15\"\n",
      "}\n",
      "```\n",
      "----------------------------------------\n",
      "USER : Can you add one more of that smartphone to the order? \n"
     ]
    },
    {
     "name": "stderr",
     "output_type": "stream",
     "text": [
      "Gemini produced an empty response. Continuing with empty message\n",
      "Feedback: \n"
     ]
    },
    {
     "name": "stdout",
     "output_type": "stream",
     "text": [
      "\n",
      "AGENT : Can you add one more of that smartphone to the order? \n",
      "----------------------------------------\n",
      "USER : Tell me about the features of Nimbus Mini smartphone\n",
      "\n",
      "AGENT :  FEATURES: The Nimbus Mini boasts a sleek design with a 5.5-inch display, perfect for one-handed use. It has a 13MP rear camera and a 5MP front camera for capturing memories. It comes with 3GB of RAM and 32GB of internal storage, expandable via microSD card. The Nimbus Mini also features a long-lasting battery and runs on the latest version of Android.\n",
      "----------------------------------------\n",
      "USER : How much does it cost?\n",
      "\n",
      "AGENT : The Nimbus Mini costs $749.\n",
      "----------------------------------------\n",
      "USER : Bye\n",
      "\n",
      "AGENT : Bye\n"
     ]
    }
   ],
   "source": [
    "user_inputs = [\n",
    "    \"How are you doing?\",\n",
    "    \"Please show me the details of the order ORD-5821\",\n",
    "    \"Can you add one more of that smartphone to the order? \",\n",
    "    \"Tell me about the features of Nimbus Mini smartphone\",\n",
    "    \"How much does it cost?\",\n",
    "    \"Bye\",\n",
    "]\n",
    "\n",
    "config = {\"configurable\": {\"thread_id\": str(uuid.uuid4())}}\n",
    "for input in user_inputs:\n",
    "    print(f\"----------------------------------------\\nUSER : {input}\")\n",
    "    user_message = {\"messages\": [HumanMessage(input)]}\n",
    "    ai_response = router_agent.router_graph.invoke(user_message, config=config)\n",
    "    for m in reversed(ai_response[\"messages\"]):\n",
    "        if last_msg := m.content:\n",
    "            if last_msg.strip().upper() in {\"SMALLTALK\", \"PRODUCT\", \"ORDER\", \"END\"}:\n",
    "                continue\n",
    "            print(f\"\\nAGENT : {last_msg}\")\n",
    "            break"
   ]
  }
 ],
 "metadata": {
  "kernelspec": {
   "display_name": ".venv",
   "language": "python",
   "name": "python3"
  },
  "language_info": {
   "codemirror_mode": {
    "name": "ipython",
    "version": 3
   },
   "file_extension": ".py",
   "mimetype": "text/x-python",
   "name": "python",
   "nbconvert_exporter": "python",
   "pygments_lexer": "ipython3",
   "version": "3.12.3"
  }
 },
 "nbformat": 4,
 "nbformat_minor": 5
}
